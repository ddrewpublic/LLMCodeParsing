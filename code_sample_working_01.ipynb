{
 "cells": [
  {
   "cell_type": "code",
   "id": "initial_id",
   "metadata": {
    "collapsed": true,
    "ExecuteTime": {
     "end_time": "2024-09-26T10:10:07.916653Z",
     "start_time": "2024-09-26T10:10:07.912459Z"
    }
   },
   "source": [
    "import os\n",
    "from glob import glob\n",
    "cwd = os.getcwd()\n",
    "print(cwd)"
   ],
   "outputs": [
    {
     "name": "stdout",
     "output_type": "stream",
     "text": [
      "/media/tiswas/PCIe_Storage/PythonCode/ProgramData\n"
     ]
    }
   ],
   "execution_count": 1
  },
  {
   "metadata": {
    "ExecuteTime": {
     "end_time": "2024-09-26T10:10:08.117131Z",
     "start_time": "2024-09-26T10:10:07.974137Z"
    }
   },
   "cell_type": "code",
   "source": [
    "files_list = glob(cwd + \"/**/*.txt\", recursive=True)\n",
    "print(f\"{len(files_list):,} files found\")"
   ],
   "id": "6ed2c065be402161",
   "outputs": [
    {
     "name": "stdout",
     "output_type": "stream",
     "text": [
      "52,003 files found\n"
     ]
    }
   ],
   "execution_count": 2
  },
  {
   "metadata": {
    "ExecuteTime": {
     "end_time": "2024-09-26T10:10:09.451346Z",
     "start_time": "2024-09-26T10:10:08.235130Z"
    }
   },
   "cell_type": "code",
   "source": [
    "LIMIT = 999_999\n",
    "# instantiate lists\n",
    "linecount_list = []\n",
    "error_list = []\n",
    "# loop through all files\n",
    "for filepath in files_list[:LIMIT]:\n",
    "    with open(filepath) as openfile:\n",
    "        # count lines in file\n",
    "        try:\n",
    "            linecount = sum(1 for _ in openfile)\n",
    "            linecount_list.append([filepath, linecount])\n",
    "        except UnicodeDecodeError as err:\n",
    "            # print(f\"{err} :  {filepath}\")\n",
    "            # error_list.append(f\"{err} :  {filepath}\")\n",
    "            error_list.append([err,filepath])\n",
    "            \n",
    "# linecount_list  # [:10]"
   ],
   "id": "47faee52d40252d2",
   "outputs": [],
   "execution_count": 3
  },
  {
   "metadata": {
    "ExecuteTime": {
     "end_time": "2024-09-26T10:10:09.461997Z",
     "start_time": "2024-09-26T10:10:09.459181Z"
    }
   },
   "cell_type": "code",
   "source": [
    "print(f\"{len(error_list):,} file processed with errors\")\n",
    "print(f\"{len(linecount_list):,} files process successfully\")"
   ],
   "id": "f7d2f97ead157b26",
   "outputs": [
    {
     "name": "stdout",
     "output_type": "stream",
     "text": [
      "0 file processed with errors\n",
      "52,003 files process successfully\n"
     ]
    }
   ],
   "execution_count": 4
  },
  {
   "metadata": {
    "ExecuteTime": {
     "end_time": "2024-09-26T10:10:09.512832Z",
     "start_time": "2024-09-26T10:10:09.510629Z"
    }
   },
   "cell_type": "code",
   "source": [
    "try:\n",
    "    print(error_list[0])\n",
    "except IndexError as err:\n",
    "    print(f\"{err}\")  \n",
    "# error_list"
   ],
   "id": "b16cfdb319bef02b",
   "outputs": [
    {
     "name": "stdout",
     "output_type": "stream",
     "text": [
      "list index out of range\n"
     ]
    }
   ],
   "execution_count": 5
  },
  {
   "metadata": {
    "ExecuteTime": {
     "end_time": "2024-09-26T10:10:09.671495Z",
     "start_time": "2024-09-26T10:10:09.664287Z"
    }
   },
   "cell_type": "code",
   "source": [
    "# find file with most lines \n",
    "print(max(linecount_list, key=lambda x: x[1])) \n",
    "# find file with least lines \n",
    "print(min(linecount_list, key=lambda x: x[1]))"
   ],
   "id": "815226478dedfb00",
   "outputs": [
    {
     "name": "stdout",
     "output_type": "stream",
     "text": [
      "['/media/tiswas/PCIe_Storage/PythonCode/ProgramData/ProgramData/066/066-1100.txt', 420]\n",
      "['/media/tiswas/PCIe_Storage/PythonCode/ProgramData/ProgramData/104/104-0965.txt', 1]\n"
     ]
    }
   ],
   "execution_count": 6
  },
  {
   "metadata": {
    "ExecuteTime": {
     "end_time": "2024-09-26T10:13:50.531898Z",
     "start_time": "2024-09-26T10:13:50.363692Z"
    }
   },
   "cell_type": "code",
   "source": [
    "import pandas as pd\n",
    "metadata_df = pd.DataFrame"
   ],
   "id": "15ee37c9f2eadac1",
   "outputs": [],
   "execution_count": 8
  },
  {
   "metadata": {
    "ExecuteTime": {
     "end_time": "2024-09-26T10:10:09.830473387Z",
     "start_time": "2024-09-23T15:21:59.000891Z"
    }
   },
   "cell_type": "code",
   "source": "",
   "id": "998ba61737ea8875",
   "outputs": [
    {
     "data": {
      "text/plain": [
       "[]"
      ]
     },
     "execution_count": 111,
     "metadata": {},
     "output_type": "execute_result"
    }
   ],
   "execution_count": 111
  }
 ],
 "metadata": {
  "kernelspec": {
   "display_name": "Python 3",
   "language": "python",
   "name": "python3"
  },
  "language_info": {
   "codemirror_mode": {
    "name": "ipython",
    "version": 2
   },
   "file_extension": ".py",
   "mimetype": "text/x-python",
   "name": "python",
   "nbconvert_exporter": "python",
   "pygments_lexer": "ipython2",
   "version": "2.7.6"
  }
 },
 "nbformat": 4,
 "nbformat_minor": 5
}
