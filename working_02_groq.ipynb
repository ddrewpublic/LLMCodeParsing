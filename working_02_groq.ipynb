{
 "cells": [
  {
   "metadata": {
    "ExecuteTime": {
     "end_time": "2024-09-27T12:00:42.045312Z",
     "start_time": "2024-09-27T12:00:42.043218Z"
    }
   },
   "cell_type": "code",
   "source": [
    "# imports\n",
    "import os\n",
    "from glob import glob                       # creating lists of file in directories\n",
    "import groq\n",
    "from groq import Groq\n",
    "import json                                 # pretty print of groq ChatCompletion object\n",
    "from dotenv import load_dotenv              # load of .env variables\n",
    "from datetime import datetime               # for timestamping output\n"
   ],
   "id": "587e609e4d49ac17",
   "outputs": [],
   "execution_count": 92
  },
  {
   "metadata": {
    "ExecuteTime": {
     "end_time": "2024-09-27T12:03:26.170222Z",
     "start_time": "2024-09-27T12:03:26.168300Z"
    }
   },
   "cell_type": "code",
   "source": "\n",
   "id": "e4d25aaf76bd65e3",
   "outputs": [
    {
     "name": "stdout",
     "output_type": "stream",
     "text": [
      "Completed 2024-09-27_13-03\n"
     ]
    }
   ],
   "execution_count": 98
  },
  {
   "metadata": {},
   "cell_type": "code",
   "source": [
    "# Import variables from .env file\n",
    "load_dotenv()\n",
    "# Global variables\n",
    "cwd = os.getcwd()\n",
    "\n",
    "CODEDATA = os.path.join(cwd, 'CodeData')\n",
    "COMMENTEDATA = os.path.join(cwd, 'CommentData')\n",
    "SUMMARYDATA = os.path.join(cwd, 'SummaryData')\n",
    "GROQOUTPUT = os.path.join(cwd, 'GroqOutput')"
   ],
   "id": "6d3dd0e1ac3cc943",
   "outputs": [],
   "execution_count": null
  },
  {
   "metadata": {},
   "cell_type": "code",
   "source": [
    "# File lists\n",
    "codedata_list = glob(os.path.join(CODEDATA, '*.c'))\n",
    "codedata_list.sort()\n",
    "commentdata_list = glob(os.path.join(COMMENTEDATA, '*.txt'))\n",
    "summarydata_list = glob(os.path.join(SUMMARYDATA, '*.txt'))"
   ],
   "id": "793697f608469297",
   "outputs": [],
   "execution_count": null
  },
  {
   "metadata": {
    "ExecuteTime": {
     "end_time": "2024-09-27T11:23:30.832781Z",
     "start_time": "2024-09-27T11:23:30.830218Z"
    }
   },
   "cell_type": "code",
   "source": [
    "# chat_completion input variables\n",
    "base_prompt = 'output the code below with developer comments for each line, use the header \"Part I\". add a 200 word summary, use the header \"Part II\":\\n'\n",
    "message_role = 'system'\n",
    "chat_model = 'llama3-8b-8192'"
   ],
   "id": "1e7904254f4a3342",
   "outputs": [],
   "execution_count": 78
  },
  {
   "metadata": {
    "ExecuteTime": {
     "end_time": "2024-09-27T11:23:32.521014Z",
     "start_time": "2024-09-27T11:23:32.515804Z"
    }
   },
   "cell_type": "code",
   "source": [
    "test_file_1 = codedata_list[0]\n",
    "line_list = []\n",
    "print(f\"Testing with file: {os.path.basename(test_file_1)}\")\n",
    "with open(test_file_1, 'r') as f:\n",
    "    line_list.append(sum(1 for line in f))\n",
    "    message_content = base_prompt + '\\n' + f.read()\n",
    "# print(f\"{message_content}\")\n",
    "line_list"
   ],
   "id": "50dc00c800604291",
   "outputs": [
    {
     "name": "stdout",
     "output_type": "stream",
     "text": [
      "Testing with file: code-001-0013.c\n"
     ]
    },
    {
     "data": {
      "text/plain": [
       "[37]"
      ]
     },
     "execution_count": 79,
     "metadata": {},
     "output_type": "execute_result"
    }
   ],
   "execution_count": 79
  },
  {
   "metadata": {},
   "cell_type": "code",
   "source": "",
   "id": "b4d44e8d6fe7b50d",
   "outputs": [],
   "execution_count": null
  },
  {
   "metadata": {
    "ExecuteTime": {
     "end_time": "2024-09-27T11:23:34.504846Z",
     "start_time": "2024-09-27T11:23:34.500348Z"
    }
   },
   "cell_type": "code",
   "source": [
    "# fetch chat completion with input prompt\n",
    "def get_chat_completion(message: str, model: str = 'llama3-8b-8192', role: str = 'system') -> str:\n",
    "    \"\"\" \n",
    "    source: https://console.groq.com/docs/libraries#Usage\n",
    "    source: https://github.com/groq/groq-python\n",
    "    \"\"\"\n",
    "    \n",
    "    client = Groq(\n",
    "        api_key=os.environ.get(\"GROQ_API_KEY\"),\n",
    "    )\n",
    "        \n",
    "    try:\n",
    "        chat_completion = client.chat.completions.create(\n",
    "            messages=[\n",
    "                {\n",
    "                    \"role\": role,\n",
    "                    \"content\": message\n",
    "                },\n",
    "            ],\n",
    "            model=model,\n",
    "        )\n",
    "        \n",
    "    except groq.APIConnectionError as e:\n",
    "        print(\"The server could not be reached\")\n",
    "        print(e.__cause__)  # an underlying Exception, likely raised within httpx.\n",
    "    except groq.RateLimitError as e:\n",
    "        print(\"A 429 status code was received; we should back off a bit.\")\n",
    "    except groq.APIStatusError as e:\n",
    "        print(\"Another non-200-range status code was received\")\n",
    "        print(e.status_code)\n",
    "        print(e.response)\n",
    "    \n",
    "    return chat_completion\n"
   ],
   "id": "c5db2b6c8259849",
   "outputs": [],
   "execution_count": 80
  },
  {
   "metadata": {
    "ExecuteTime": {
     "end_time": "2024-09-27T11:54:54.199810Z",
     "start_time": "2024-09-27T11:24:04.198921Z"
    }
   },
   "cell_type": "code",
   "source": [
    "# loop through first n=LIMIT CodeData files & get chatcompletion \n",
    "LIMIT = 1_000\n",
    "loop_log = []\n",
    "chat_completion_list = []\n",
    "for i, c_file in enumerate(codedata_list[:LIMIT]):\n",
    "    time_stamp = datetime.now().strftime('%Y-%m-%d_%H-%M')\n",
    "    # append log entry (format count | time_stamp | step | filename)\n",
    "    loop_log.append(f\"{i:03,} | {time_stamp} | Processing | {os.path.basename(c_file)}\")\n",
    "    # open file to count lines\n",
    "    with open(c_file, 'r') as f:\n",
    "        linecount = sum(1 for _ in f)\n",
    "        loop_log.append(f\"{i:03,d} Opened {os.path.basename(c_file)} with {linecount:,d} lines\")\n",
    "    # open file again to read contents\n",
    "    with open(c_file, 'r') as f:\n",
    "        message_content = base_prompt + '\\n' + f.read()\n",
    "        \n",
    "    # call groq api function\n",
    "    chat_completion = get_chat_completion(message=message_content, role=message_role, model=chat_model)\n",
    "    \n",
    "    # append groq ouput to list for use later\n",
    "    chat_completion_list.append(chat_completion)\n",
    "    \n",
    "    # set output path\n",
    "    groqout_file = os.path.join(GROQOUTPUT, os.path.splitext(os.path.basename(c_file))[0] + '.txt')\n",
    "    # write to file\n",
    "    with open(groqout_file, 'w') as f:\n",
    "        for line in chat_completion.choices[0].message.content:\n",
    "            f.write(line)\n",
    "    # add log entry\n",
    "    loop_log.append(f\"{i:03,d} | {time_stamp} | Write | {os.path.basename(groqout_file)}\")\n",
    "\n",
    "print(f\"Completed {datetime.now().strftime('%Y-%m-%d_%H-%M')}\")\n",
    "# loop_log\n",
    "# TODO: error handling, particularly 429 status code (rate limit error)"
   ],
   "id": "b97e87806242c525",
   "outputs": [
    {
     "name": "stdout",
     "output_type": "stream",
     "text": [
      "A 429 status code was received; we should back off a bit.\n"
     ]
    },
    {
     "ename": "UnboundLocalError",
     "evalue": "cannot access local variable 'chat_completion' where it is not associated with a value",
     "output_type": "error",
     "traceback": [
      "\u001B[0;31m---------------------------------------------------------------------------\u001B[0m",
      "\u001B[0;31mUnboundLocalError\u001B[0m                         Traceback (most recent call last)",
      "Cell \u001B[0;32mIn[83], line 13\u001B[0m\n\u001B[1;32m     11\u001B[0m     message_content \u001B[38;5;241m=\u001B[39m base_prompt \u001B[38;5;241m+\u001B[39m \u001B[38;5;124m'\u001B[39m\u001B[38;5;130;01m\\n\u001B[39;00m\u001B[38;5;124m'\u001B[39m \u001B[38;5;241m+\u001B[39m f\u001B[38;5;241m.\u001B[39mread()\n\u001B[1;32m     12\u001B[0m \u001B[38;5;66;03m# call groq api function\u001B[39;00m\n\u001B[0;32m---> 13\u001B[0m chat_completion \u001B[38;5;241m=\u001B[39m \u001B[43mget_chat_completion\u001B[49m\u001B[43m(\u001B[49m\u001B[43mmessage\u001B[49m\u001B[38;5;241;43m=\u001B[39;49m\u001B[43mmessage_content\u001B[49m\u001B[43m,\u001B[49m\u001B[43m \u001B[49m\u001B[43mrole\u001B[49m\u001B[38;5;241;43m=\u001B[39;49m\u001B[43mmessage_role\u001B[49m\u001B[43m,\u001B[49m\u001B[43m \u001B[49m\u001B[43mmodel\u001B[49m\u001B[38;5;241;43m=\u001B[39;49m\u001B[43mchat_model\u001B[49m\u001B[43m)\u001B[49m\n\u001B[1;32m     14\u001B[0m \u001B[38;5;66;03m# append groq ouput to list for use later\u001B[39;00m\n\u001B[1;32m     15\u001B[0m chat_completion_list\u001B[38;5;241m.\u001B[39mappend(chat_completion)\n",
      "Cell \u001B[0;32mIn[80], line 33\u001B[0m, in \u001B[0;36mget_chat_completion\u001B[0;34m(message, model, role)\u001B[0m\n\u001B[1;32m     30\u001B[0m     \u001B[38;5;28mprint\u001B[39m(e\u001B[38;5;241m.\u001B[39mstatus_code)\n\u001B[1;32m     31\u001B[0m     \u001B[38;5;28mprint\u001B[39m(e\u001B[38;5;241m.\u001B[39mresponse)\n\u001B[0;32m---> 33\u001B[0m \u001B[38;5;28;01mreturn\u001B[39;00m \u001B[43mchat_completion\u001B[49m\n",
      "\u001B[0;31mUnboundLocalError\u001B[0m: cannot access local variable 'chat_completion' where it is not associated with a value"
     ]
    }
   ],
   "execution_count": 83
  },
  {
   "metadata": {},
   "cell_type": "code",
   "source": "loop_log",
   "id": "d23b100ed13d2573",
   "outputs": [],
   "execution_count": null
  },
  {
   "metadata": {
    "ExecuteTime": {
     "end_time": "2024-09-27T12:20:45.807139Z",
     "start_time": "2024-09-27T12:20:45.698591Z"
    }
   },
   "cell_type": "code",
   "source": [
    "print(f\"{len(chat_completion_list):_d} outputs in chat_completion\")\n",
    "print(f\"{len(loop_log):_d} lines in loop_log\")\n",
    "new_line ='\\n'\n",
    "# declare output file path\n",
    "chat_completion_out = os.path.join(GROQOUTPUT, 'chat_completion_out.txt')\n",
    "# write output to file\n",
    "with open(chat_completion_out, 'w') as f:\n",
    "    # loop through all chat.completion objects in chat_completion_list\n",
    "    for chat_completion in chat_completion_list:\n",
    "        # convert each chat completion to json\n",
    "        parsed_chat_completion = json.loads(chat_completion.json())\n",
    "        # pretty format the output for readability, and add a new line at the end of each one\n",
    "        pretty_chat_completion = json.dumps(parsed_chat_completion, indent=4) + new_line\n",
    "        # read through the json & write to file\n",
    "        for line in pretty_chat_completion:\n",
    "            f.write(line)"
   ],
   "id": "51006454ee05a32e",
   "outputs": [
    {
     "name": "stdout",
     "output_type": "stream",
     "text": [
      "664 outputs in chat_completion\n",
      "1_994 lines in loop_log\n"
     ]
    }
   ],
   "execution_count": 114
  },
  {
   "metadata": {},
   "cell_type": "code",
   "source": [
    "groqout_file = os.path.join(GROQOUTPUT, os.path.splitext(os.path.basename(test_file_1))[0] + '.txt')\n",
    "print(f\"{groqout_file}\")\n",
    "with open(groqout_file, 'w') as f:\n",
    "    for line in grog_output_test:\n",
    "        f.write(line)\n",
    "        # f.write('\\n')"
   ],
   "id": "2285a4ae225ece12",
   "outputs": [],
   "execution_count": null
  },
  {
   "metadata": {},
   "cell_type": "code",
   "source": "",
   "id": "e7e4c742f9d4b7a",
   "outputs": [],
   "execution_count": null
  }
 ],
 "metadata": {
  "kernelspec": {
   "display_name": "Python 3",
   "language": "python",
   "name": "python3"
  },
  "language_info": {
   "codemirror_mode": {
    "name": "ipython",
    "version": 2
   },
   "file_extension": ".py",
   "mimetype": "text/x-python",
   "name": "python",
   "nbconvert_exporter": "python",
   "pygments_lexer": "ipython2",
   "version": "2.7.6"
  }
 },
 "nbformat": 4,
 "nbformat_minor": 5
}
