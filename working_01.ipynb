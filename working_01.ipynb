{
 "cells": [
  {
   "cell_type": "code",
   "id": "initial_id",
   "metadata": {
    "collapsed": true,
    "ExecuteTime": {
     "end_time": "2024-09-27T10:24:50.787662Z",
     "start_time": "2024-09-27T10:24:50.785438Z"
    }
   },
   "source": [
    "# imports\n",
    "import os\n",
    "from glob import glob\n"
   ],
   "outputs": [],
   "execution_count": 2
  },
  {
   "metadata": {
    "ExecuteTime": {
     "end_time": "2024-09-27T10:24:50.799514Z",
     "start_time": "2024-09-27T10:24:50.793372Z"
    }
   },
   "cell_type": "code",
   "source": [
    "# Global variables\n",
    "cwd = os.getcwd()\n",
    "\n",
    "CODEDATA = os.path.join(cwd, 'CodeData')\n",
    "COMMENTEDATA = os.path.join(cwd, 'CommentData')\n",
    "SUMMARYDATA = os.path.join(cwd, 'SummaryData')\n"
   ],
   "id": "67bf960d5f295f94",
   "outputs": [],
   "execution_count": 3
  },
  {
   "metadata": {
    "ExecuteTime": {
     "end_time": "2024-09-27T10:24:50.905763Z",
     "start_time": "2024-09-27T10:24:50.841250Z"
    }
   },
   "cell_type": "code",
   "source": [
    "# File lists\n",
    "codedata_list = glob(os.path.join(CODEDATA, '*.c'))\n",
    "codedata_list.sort()\n",
    "commentdata_list = glob(os.path.join(COMMENTEDATA, '*.txt'))\n",
    "summarydata_list = glob(os.path.join(SUMMARYDATA, '*.txt'))\n"
   ],
   "id": "45793dfc6346698f",
   "outputs": [],
   "execution_count": 4
  },
  {
   "metadata": {
    "ExecuteTime": {
     "end_time": "2024-09-27T10:24:50.912091Z",
     "start_time": "2024-09-27T10:24:50.910107Z"
    }
   },
   "cell_type": "code",
   "source": "print(f\"{len(codedata_list):,} files in {CODEDATA}\")",
   "id": "ebceb9320408b451",
   "outputs": [
    {
     "name": "stdout",
     "output_type": "stream",
     "text": [
      "52,000 files in /media/tiswas/PCIe_Storage/PythonCode/ProgramData/CodeData\n"
     ]
    }
   ],
   "execution_count": 5
  },
  {
   "metadata": {
    "ExecuteTime": {
     "end_time": "2024-09-27T10:29:02.531093Z",
     "start_time": "2024-09-27T10:29:02.527724Z"
    }
   },
   "cell_type": "code",
   "source": [
    "# get maximum line counts for all code files\n",
    "# instantiate count list & error list\n",
    "linecount_list = []\n",
    "error_list = []\n",
    "\n",
    "for filename in codedata_list[:1]:\n",
    "    with open(filename, 'r') as f:\n",
    "        try:\n",
    "            # add filename and line count to list\n",
    "            linecount_list.append([f, sum(1 for _ in f)])\n",
    "        except UnicodeDecodeError as err:\n",
    "            # add filename and error code to list\n",
    "            error_list.append([filename, err])\n",
    "# print(f\"{len(linecount_list):,} files processed\")\n",
    "# print(f\"{len(error_list):,} errors processed\")\n",
    "# linecount_list\n"
   ],
   "id": "d693dfad60700aeb",
   "outputs": [
    {
     "name": "stdout",
     "output_type": "stream",
     "text": [
      "0\n"
     ]
    }
   ],
   "execution_count": 23
  },
  {
   "metadata": {
    "ExecuteTime": {
     "end_time": "2024-09-27T10:26:34.601783Z",
     "start_time": "2024-09-27T10:26:34.598547Z"
    }
   },
   "cell_type": "code",
   "source": [
    "max_linecount = max(linecount_list, key=lambda x: x[1])\n",
    "print(f\"Max line count: {max_linecount[1]:,} in file {max_linecount[0]}\")"
   ],
   "id": "7a3f68980fdb8d03",
   "outputs": [
    {
     "name": "stdout",
     "output_type": "stream",
     "text": [
      "Max line count: 37 in file <_io.TextIOWrapper name='/media/tiswas/PCIe_Storage/PythonCode/ProgramData/CodeData/code-001-0013.c' mode='r' encoding='UTF-8'>\n"
     ]
    }
   ],
   "execution_count": 14
  },
  {
   "metadata": {
    "ExecuteTime": {
     "end_time": "2024-09-27T10:24:57.990902Z",
     "start_time": "2024-09-27T10:24:57.985650Z"
    }
   },
   "cell_type": "code",
   "source": [
    "# playing with tokenizer\n",
    "import tokenize\n",
    "filepath = os.path.join(CODEDATA, 'code-001-0013.c') \n",
    "with tokenize.open(filepath) as f:\n",
    "    tokens = tokenize.generate_tokens(f.readline)\n",
    "    # print(f\"{tokens:,} tokens\")\n",
    "    for token in tokens:\n",
    "        print(token)"
   ],
   "id": "4805951f2c4959c3",
   "outputs": [
    {
     "name": "stdout",
     "output_type": "stream",
     "text": [
      "TokenInfo(type=1 (NAME), string='void', start=(1, 0), end=(1, 4), line='void main()\\n')\n",
      "TokenInfo(type=1 (NAME), string='main', start=(1, 5), end=(1, 9), line='void main()\\n')\n",
      "TokenInfo(type=54 (OP), string='(', start=(1, 9), end=(1, 10), line='void main()\\n')\n",
      "TokenInfo(type=54 (OP), string=')', start=(1, 10), end=(1, 11), line='void main()\\n')\n",
      "TokenInfo(type=4 (NEWLINE), string='\\n', start=(1, 11), end=(1, 12), line='void main()\\n')\n",
      "TokenInfo(type=54 (OP), string='{', start=(2, 0), end=(2, 1), line='{\\n')\n",
      "TokenInfo(type=62 (NL), string='\\n', start=(2, 1), end=(2, 2), line='{\\n')\n",
      "TokenInfo(type=1 (NAME), string='int', start=(3, 1), end=(3, 4), line='\\tint f(int x,int m);\\n')\n",
      "TokenInfo(type=1 (NAME), string='f', start=(3, 5), end=(3, 6), line='\\tint f(int x,int m);\\n')\n",
      "TokenInfo(type=54 (OP), string='(', start=(3, 6), end=(3, 7), line='\\tint f(int x,int m);\\n')\n",
      "TokenInfo(type=1 (NAME), string='int', start=(3, 7), end=(3, 10), line='\\tint f(int x,int m);\\n')\n",
      "TokenInfo(type=1 (NAME), string='x', start=(3, 11), end=(3, 12), line='\\tint f(int x,int m);\\n')\n",
      "TokenInfo(type=54 (OP), string=',', start=(3, 12), end=(3, 13), line='\\tint f(int x,int m);\\n')\n",
      "TokenInfo(type=1 (NAME), string='int', start=(3, 13), end=(3, 16), line='\\tint f(int x,int m);\\n')\n",
      "TokenInfo(type=1 (NAME), string='m', start=(3, 17), end=(3, 18), line='\\tint f(int x,int m);\\n')\n",
      "TokenInfo(type=54 (OP), string=')', start=(3, 18), end=(3, 19), line='\\tint f(int x,int m);\\n')\n",
      "TokenInfo(type=54 (OP), string=';', start=(3, 19), end=(3, 20), line='\\tint f(int x,int m);\\n')\n",
      "TokenInfo(type=62 (NL), string='\\n', start=(3, 20), end=(3, 21), line='\\tint f(int x,int m);\\n')\n",
      "TokenInfo(type=1 (NAME), string='int', start=(4, 1), end=(4, 4), line='\\tint k,i,j,n,sum=0;\\n')\n",
      "TokenInfo(type=1 (NAME), string='k', start=(4, 5), end=(4, 6), line='\\tint k,i,j,n,sum=0;\\n')\n",
      "TokenInfo(type=54 (OP), string=',', start=(4, 6), end=(4, 7), line='\\tint k,i,j,n,sum=0;\\n')\n",
      "TokenInfo(type=1 (NAME), string='i', start=(4, 7), end=(4, 8), line='\\tint k,i,j,n,sum=0;\\n')\n",
      "TokenInfo(type=54 (OP), string=',', start=(4, 8), end=(4, 9), line='\\tint k,i,j,n,sum=0;\\n')\n",
      "TokenInfo(type=1 (NAME), string='j', start=(4, 9), end=(4, 10), line='\\tint k,i,j,n,sum=0;\\n')\n",
      "TokenInfo(type=54 (OP), string=',', start=(4, 10), end=(4, 11), line='\\tint k,i,j,n,sum=0;\\n')\n",
      "TokenInfo(type=1 (NAME), string='n', start=(4, 11), end=(4, 12), line='\\tint k,i,j,n,sum=0;\\n')\n",
      "TokenInfo(type=54 (OP), string=',', start=(4, 12), end=(4, 13), line='\\tint k,i,j,n,sum=0;\\n')\n",
      "TokenInfo(type=1 (NAME), string='sum', start=(4, 13), end=(4, 16), line='\\tint k,i,j,n,sum=0;\\n')\n",
      "TokenInfo(type=54 (OP), string='=', start=(4, 16), end=(4, 17), line='\\tint k,i,j,n,sum=0;\\n')\n",
      "TokenInfo(type=2 (NUMBER), string='0', start=(4, 17), end=(4, 18), line='\\tint k,i,j,n,sum=0;\\n')\n",
      "TokenInfo(type=54 (OP), string=';', start=(4, 18), end=(4, 19), line='\\tint k,i,j,n,sum=0;\\n')\n",
      "TokenInfo(type=62 (NL), string='\\n', start=(4, 19), end=(4, 20), line='\\tint k,i,j,n,sum=0;\\n')\n",
      "TokenInfo(type=1 (NAME), string='scanf', start=(5, 1), end=(5, 6), line='\\tscanf(\"%d\",&n);\\n')\n",
      "TokenInfo(type=54 (OP), string='(', start=(5, 6), end=(5, 7), line='\\tscanf(\"%d\",&n);\\n')\n",
      "TokenInfo(type=3 (STRING), string='\"%d\"', start=(5, 7), end=(5, 11), line='\\tscanf(\"%d\",&n);\\n')\n",
      "TokenInfo(type=54 (OP), string=',', start=(5, 11), end=(5, 12), line='\\tscanf(\"%d\",&n);\\n')\n",
      "TokenInfo(type=54 (OP), string='&', start=(5, 12), end=(5, 13), line='\\tscanf(\"%d\",&n);\\n')\n",
      "TokenInfo(type=1 (NAME), string='n', start=(5, 13), end=(5, 14), line='\\tscanf(\"%d\",&n);\\n')\n",
      "TokenInfo(type=54 (OP), string=')', start=(5, 14), end=(5, 15), line='\\tscanf(\"%d\",&n);\\n')\n",
      "TokenInfo(type=54 (OP), string=';', start=(5, 15), end=(5, 16), line='\\tscanf(\"%d\",&n);\\n')\n",
      "TokenInfo(type=62 (NL), string='\\n', start=(5, 16), end=(5, 17), line='\\tscanf(\"%d\",&n);\\n')\n",
      "TokenInfo(type=1 (NAME), string='for', start=(6, 1), end=(6, 4), line='\\tfor(i=1;i<=n;i++)\\n')\n",
      "TokenInfo(type=54 (OP), string='(', start=(6, 4), end=(6, 5), line='\\tfor(i=1;i<=n;i++)\\n')\n",
      "TokenInfo(type=1 (NAME), string='i', start=(6, 5), end=(6, 6), line='\\tfor(i=1;i<=n;i++)\\n')\n",
      "TokenInfo(type=54 (OP), string='=', start=(6, 6), end=(6, 7), line='\\tfor(i=1;i<=n;i++)\\n')\n",
      "TokenInfo(type=2 (NUMBER), string='1', start=(6, 7), end=(6, 8), line='\\tfor(i=1;i<=n;i++)\\n')\n",
      "TokenInfo(type=54 (OP), string=';', start=(6, 8), end=(6, 9), line='\\tfor(i=1;i<=n;i++)\\n')\n",
      "TokenInfo(type=1 (NAME), string='i', start=(6, 9), end=(6, 10), line='\\tfor(i=1;i<=n;i++)\\n')\n",
      "TokenInfo(type=54 (OP), string='<=', start=(6, 10), end=(6, 12), line='\\tfor(i=1;i<=n;i++)\\n')\n",
      "TokenInfo(type=1 (NAME), string='n', start=(6, 12), end=(6, 13), line='\\tfor(i=1;i<=n;i++)\\n')\n",
      "TokenInfo(type=54 (OP), string=';', start=(6, 13), end=(6, 14), line='\\tfor(i=1;i<=n;i++)\\n')\n",
      "TokenInfo(type=1 (NAME), string='i', start=(6, 14), end=(6, 15), line='\\tfor(i=1;i<=n;i++)\\n')\n",
      "TokenInfo(type=54 (OP), string='+', start=(6, 15), end=(6, 16), line='\\tfor(i=1;i<=n;i++)\\n')\n",
      "TokenInfo(type=54 (OP), string='+', start=(6, 16), end=(6, 17), line='\\tfor(i=1;i<=n;i++)\\n')\n",
      "TokenInfo(type=54 (OP), string=')', start=(6, 17), end=(6, 18), line='\\tfor(i=1;i<=n;i++)\\n')\n",
      "TokenInfo(type=62 (NL), string='\\n', start=(6, 18), end=(6, 19), line='\\tfor(i=1;i<=n;i++)\\n')\n",
      "TokenInfo(type=54 (OP), string='{', start=(7, 1), end=(7, 2), line='\\t{\\n')\n",
      "TokenInfo(type=62 (NL), string='\\n', start=(7, 2), end=(7, 3), line='\\t{\\n')\n",
      "TokenInfo(type=1 (NAME), string='scanf', start=(8, 2), end=(8, 7), line='\\t\\tscanf(\"%d\",&k);\\n')\n",
      "TokenInfo(type=54 (OP), string='(', start=(8, 7), end=(8, 8), line='\\t\\tscanf(\"%d\",&k);\\n')\n",
      "TokenInfo(type=3 (STRING), string='\"%d\"', start=(8, 8), end=(8, 12), line='\\t\\tscanf(\"%d\",&k);\\n')\n",
      "TokenInfo(type=54 (OP), string=',', start=(8, 12), end=(8, 13), line='\\t\\tscanf(\"%d\",&k);\\n')\n",
      "TokenInfo(type=54 (OP), string='&', start=(8, 13), end=(8, 14), line='\\t\\tscanf(\"%d\",&k);\\n')\n",
      "TokenInfo(type=1 (NAME), string='k', start=(8, 14), end=(8, 15), line='\\t\\tscanf(\"%d\",&k);\\n')\n",
      "TokenInfo(type=54 (OP), string=')', start=(8, 15), end=(8, 16), line='\\t\\tscanf(\"%d\",&k);\\n')\n",
      "TokenInfo(type=54 (OP), string=';', start=(8, 16), end=(8, 17), line='\\t\\tscanf(\"%d\",&k);\\n')\n",
      "TokenInfo(type=62 (NL), string='\\n', start=(8, 17), end=(8, 18), line='\\t\\tscanf(\"%d\",&k);\\n')\n",
      "TokenInfo(type=1 (NAME), string='for', start=(9, 2), end=(9, 5), line='\\t\\tfor(j=2;j<=k;j++)\\n')\n",
      "TokenInfo(type=54 (OP), string='(', start=(9, 5), end=(9, 6), line='\\t\\tfor(j=2;j<=k;j++)\\n')\n",
      "TokenInfo(type=1 (NAME), string='j', start=(9, 6), end=(9, 7), line='\\t\\tfor(j=2;j<=k;j++)\\n')\n",
      "TokenInfo(type=54 (OP), string='=', start=(9, 7), end=(9, 8), line='\\t\\tfor(j=2;j<=k;j++)\\n')\n",
      "TokenInfo(type=2 (NUMBER), string='2', start=(9, 8), end=(9, 9), line='\\t\\tfor(j=2;j<=k;j++)\\n')\n",
      "TokenInfo(type=54 (OP), string=';', start=(9, 9), end=(9, 10), line='\\t\\tfor(j=2;j<=k;j++)\\n')\n",
      "TokenInfo(type=1 (NAME), string='j', start=(9, 10), end=(9, 11), line='\\t\\tfor(j=2;j<=k;j++)\\n')\n",
      "TokenInfo(type=54 (OP), string='<=', start=(9, 11), end=(9, 13), line='\\t\\tfor(j=2;j<=k;j++)\\n')\n",
      "TokenInfo(type=1 (NAME), string='k', start=(9, 13), end=(9, 14), line='\\t\\tfor(j=2;j<=k;j++)\\n')\n",
      "TokenInfo(type=54 (OP), string=';', start=(9, 14), end=(9, 15), line='\\t\\tfor(j=2;j<=k;j++)\\n')\n",
      "TokenInfo(type=1 (NAME), string='j', start=(9, 15), end=(9, 16), line='\\t\\tfor(j=2;j<=k;j++)\\n')\n",
      "TokenInfo(type=54 (OP), string='+', start=(9, 16), end=(9, 17), line='\\t\\tfor(j=2;j<=k;j++)\\n')\n",
      "TokenInfo(type=54 (OP), string='+', start=(9, 17), end=(9, 18), line='\\t\\tfor(j=2;j<=k;j++)\\n')\n",
      "TokenInfo(type=54 (OP), string=')', start=(9, 18), end=(9, 19), line='\\t\\tfor(j=2;j<=k;j++)\\n')\n",
      "TokenInfo(type=62 (NL), string='\\n', start=(9, 19), end=(9, 20), line='\\t\\tfor(j=2;j<=k;j++)\\n')\n",
      "TokenInfo(type=54 (OP), string='{', start=(10, 2), end=(10, 3), line='\\t\\t{\\n')\n",
      "TokenInfo(type=62 (NL), string='\\n', start=(10, 3), end=(10, 4), line='\\t\\t{\\n')\n",
      "TokenInfo(type=1 (NAME), string='if', start=(11, 3), end=(11, 5), line='\\t\\t\\tif(k%j==0)\\n')\n",
      "TokenInfo(type=54 (OP), string='(', start=(11, 5), end=(11, 6), line='\\t\\t\\tif(k%j==0)\\n')\n",
      "TokenInfo(type=1 (NAME), string='k', start=(11, 6), end=(11, 7), line='\\t\\t\\tif(k%j==0)\\n')\n",
      "TokenInfo(type=54 (OP), string='%', start=(11, 7), end=(11, 8), line='\\t\\t\\tif(k%j==0)\\n')\n",
      "TokenInfo(type=1 (NAME), string='j', start=(11, 8), end=(11, 9), line='\\t\\t\\tif(k%j==0)\\n')\n",
      "TokenInfo(type=54 (OP), string='==', start=(11, 9), end=(11, 11), line='\\t\\t\\tif(k%j==0)\\n')\n",
      "TokenInfo(type=2 (NUMBER), string='0', start=(11, 11), end=(11, 12), line='\\t\\t\\tif(k%j==0)\\n')\n",
      "TokenInfo(type=54 (OP), string=')', start=(11, 12), end=(11, 13), line='\\t\\t\\tif(k%j==0)\\n')\n",
      "TokenInfo(type=62 (NL), string='\\n', start=(11, 13), end=(11, 14), line='\\t\\t\\tif(k%j==0)\\n')\n",
      "TokenInfo(type=54 (OP), string='{', start=(12, 3), end=(12, 4), line='\\t\\t\\t{\\n')\n",
      "TokenInfo(type=62 (NL), string='\\n', start=(12, 4), end=(12, 5), line='\\t\\t\\t{\\n')\n",
      "TokenInfo(type=1 (NAME), string='sum', start=(13, 4), end=(13, 7), line='\\t\\t\\t\\tsum+=f(k,j);\\n')\n",
      "TokenInfo(type=54 (OP), string='+=', start=(13, 7), end=(13, 9), line='\\t\\t\\t\\tsum+=f(k,j);\\n')\n",
      "TokenInfo(type=1 (NAME), string='f', start=(13, 9), end=(13, 10), line='\\t\\t\\t\\tsum+=f(k,j);\\n')\n",
      "TokenInfo(type=54 (OP), string='(', start=(13, 10), end=(13, 11), line='\\t\\t\\t\\tsum+=f(k,j);\\n')\n",
      "TokenInfo(type=1 (NAME), string='k', start=(13, 11), end=(13, 12), line='\\t\\t\\t\\tsum+=f(k,j);\\n')\n",
      "TokenInfo(type=54 (OP), string=',', start=(13, 12), end=(13, 13), line='\\t\\t\\t\\tsum+=f(k,j);\\n')\n",
      "TokenInfo(type=1 (NAME), string='j', start=(13, 13), end=(13, 14), line='\\t\\t\\t\\tsum+=f(k,j);\\n')\n",
      "TokenInfo(type=54 (OP), string=')', start=(13, 14), end=(13, 15), line='\\t\\t\\t\\tsum+=f(k,j);\\n')\n",
      "TokenInfo(type=54 (OP), string=';', start=(13, 15), end=(13, 16), line='\\t\\t\\t\\tsum+=f(k,j);\\n')\n",
      "TokenInfo(type=62 (NL), string='\\n', start=(13, 16), end=(13, 17), line='\\t\\t\\t\\tsum+=f(k,j);\\n')\n",
      "TokenInfo(type=54 (OP), string='}', start=(14, 3), end=(14, 4), line='\\t\\t\\t}\\n')\n",
      "TokenInfo(type=62 (NL), string='\\n', start=(14, 4), end=(14, 5), line='\\t\\t\\t}\\n')\n",
      "TokenInfo(type=54 (OP), string='}', start=(15, 2), end=(15, 3), line='\\t\\t}\\n')\n",
      "TokenInfo(type=62 (NL), string='\\n', start=(15, 3), end=(15, 4), line='\\t\\t}\\n')\n",
      "TokenInfo(type=1 (NAME), string='printf', start=(16, 2), end=(16, 8), line='\\t\\tprintf(\"%d\\\\n\",sum);\\n')\n",
      "TokenInfo(type=54 (OP), string='(', start=(16, 8), end=(16, 9), line='\\t\\tprintf(\"%d\\\\n\",sum);\\n')\n",
      "TokenInfo(type=3 (STRING), string='\"%d\\\\n\"', start=(16, 9), end=(16, 15), line='\\t\\tprintf(\"%d\\\\n\",sum);\\n')\n",
      "TokenInfo(type=54 (OP), string=',', start=(16, 15), end=(16, 16), line='\\t\\tprintf(\"%d\\\\n\",sum);\\n')\n",
      "TokenInfo(type=1 (NAME), string='sum', start=(16, 16), end=(16, 19), line='\\t\\tprintf(\"%d\\\\n\",sum);\\n')\n",
      "TokenInfo(type=54 (OP), string=')', start=(16, 19), end=(16, 20), line='\\t\\tprintf(\"%d\\\\n\",sum);\\n')\n",
      "TokenInfo(type=54 (OP), string=';', start=(16, 20), end=(16, 21), line='\\t\\tprintf(\"%d\\\\n\",sum);\\n')\n",
      "TokenInfo(type=62 (NL), string='\\n', start=(16, 21), end=(16, 22), line='\\t\\tprintf(\"%d\\\\n\",sum);\\n')\n",
      "TokenInfo(type=1 (NAME), string='sum', start=(17, 2), end=(17, 5), line='\\t\\tsum=0;\\n')\n",
      "TokenInfo(type=54 (OP), string='=', start=(17, 5), end=(17, 6), line='\\t\\tsum=0;\\n')\n",
      "TokenInfo(type=2 (NUMBER), string='0', start=(17, 6), end=(17, 7), line='\\t\\tsum=0;\\n')\n",
      "TokenInfo(type=54 (OP), string=';', start=(17, 7), end=(17, 8), line='\\t\\tsum=0;\\n')\n",
      "TokenInfo(type=62 (NL), string='\\n', start=(17, 8), end=(17, 9), line='\\t\\tsum=0;\\n')\n",
      "TokenInfo(type=54 (OP), string='}', start=(18, 1), end=(18, 2), line='\\t}\\n')\n",
      "TokenInfo(type=62 (NL), string='\\n', start=(18, 2), end=(18, 3), line='\\t}\\n')\n",
      "TokenInfo(type=54 (OP), string='}', start=(19, 0), end=(19, 1), line='}\\n')\n",
      "TokenInfo(type=4 (NEWLINE), string='\\n', start=(19, 1), end=(19, 2), line='}\\n')\n",
      "TokenInfo(type=1 (NAME), string='int', start=(20, 0), end=(20, 3), line='int f(int x,int m)\\n')\n",
      "TokenInfo(type=1 (NAME), string='f', start=(20, 4), end=(20, 5), line='int f(int x,int m)\\n')\n",
      "TokenInfo(type=54 (OP), string='(', start=(20, 5), end=(20, 6), line='int f(int x,int m)\\n')\n",
      "TokenInfo(type=1 (NAME), string='int', start=(20, 6), end=(20, 9), line='int f(int x,int m)\\n')\n",
      "TokenInfo(type=1 (NAME), string='x', start=(20, 10), end=(20, 11), line='int f(int x,int m)\\n')\n",
      "TokenInfo(type=54 (OP), string=',', start=(20, 11), end=(20, 12), line='int f(int x,int m)\\n')\n",
      "TokenInfo(type=1 (NAME), string='int', start=(20, 12), end=(20, 15), line='int f(int x,int m)\\n')\n",
      "TokenInfo(type=1 (NAME), string='m', start=(20, 16), end=(20, 17), line='int f(int x,int m)\\n')\n",
      "TokenInfo(type=54 (OP), string=')', start=(20, 17), end=(20, 18), line='int f(int x,int m)\\n')\n",
      "TokenInfo(type=4 (NEWLINE), string='\\n', start=(20, 18), end=(20, 19), line='int f(int x,int m)\\n')\n",
      "TokenInfo(type=54 (OP), string='{', start=(21, 0), end=(21, 1), line='{\\n')\n",
      "TokenInfo(type=62 (NL), string='\\n', start=(21, 1), end=(21, 2), line='{\\n')\n",
      "TokenInfo(type=1 (NAME), string='int', start=(22, 1), end=(22, 4), line='\\tint i,sum=0;\\n')\n",
      "TokenInfo(type=1 (NAME), string='i', start=(22, 5), end=(22, 6), line='\\tint i,sum=0;\\n')\n",
      "TokenInfo(type=54 (OP), string=',', start=(22, 6), end=(22, 7), line='\\tint i,sum=0;\\n')\n",
      "TokenInfo(type=1 (NAME), string='sum', start=(22, 7), end=(22, 10), line='\\tint i,sum=0;\\n')\n",
      "TokenInfo(type=54 (OP), string='=', start=(22, 10), end=(22, 11), line='\\tint i,sum=0;\\n')\n",
      "TokenInfo(type=2 (NUMBER), string='0', start=(22, 11), end=(22, 12), line='\\tint i,sum=0;\\n')\n",
      "TokenInfo(type=54 (OP), string=';', start=(22, 12), end=(22, 13), line='\\tint i,sum=0;\\n')\n",
      "TokenInfo(type=62 (NL), string='\\n', start=(22, 13), end=(22, 14), line='\\tint i,sum=0;\\n')\n",
      "TokenInfo(type=1 (NAME), string='if', start=(23, 1), end=(23, 3), line='\\tif(m==x)\\n')\n",
      "TokenInfo(type=54 (OP), string='(', start=(23, 3), end=(23, 4), line='\\tif(m==x)\\n')\n",
      "TokenInfo(type=1 (NAME), string='m', start=(23, 4), end=(23, 5), line='\\tif(m==x)\\n')\n",
      "TokenInfo(type=54 (OP), string='==', start=(23, 5), end=(23, 7), line='\\tif(m==x)\\n')\n",
      "TokenInfo(type=1 (NAME), string='x', start=(23, 7), end=(23, 8), line='\\tif(m==x)\\n')\n",
      "TokenInfo(type=54 (OP), string=')', start=(23, 8), end=(23, 9), line='\\tif(m==x)\\n')\n",
      "TokenInfo(type=62 (NL), string='\\n', start=(23, 9), end=(23, 10), line='\\tif(m==x)\\n')\n",
      "TokenInfo(type=1 (NAME), string='sum', start=(24, 2), end=(24, 5), line='\\t\\tsum=1;\\n')\n",
      "TokenInfo(type=54 (OP), string='=', start=(24, 5), end=(24, 6), line='\\t\\tsum=1;\\n')\n",
      "TokenInfo(type=2 (NUMBER), string='1', start=(24, 6), end=(24, 7), line='\\t\\tsum=1;\\n')\n",
      "TokenInfo(type=54 (OP), string=';', start=(24, 7), end=(24, 8), line='\\t\\tsum=1;\\n')\n",
      "TokenInfo(type=62 (NL), string='\\n', start=(24, 8), end=(24, 9), line='\\t\\tsum=1;\\n')\n",
      "TokenInfo(type=1 (NAME), string='else', start=(25, 1), end=(25, 5), line='\\telse\\n')\n",
      "TokenInfo(type=62 (NL), string='\\n', start=(25, 5), end=(25, 6), line='\\telse\\n')\n",
      "TokenInfo(type=54 (OP), string='{', start=(26, 1), end=(26, 2), line='\\t{\\n')\n",
      "TokenInfo(type=62 (NL), string='\\n', start=(26, 2), end=(26, 3), line='\\t{\\n')\n",
      "TokenInfo(type=1 (NAME), string='x', start=(27, 2), end=(27, 3), line='\\t\\tx=x/m;\\n')\n",
      "TokenInfo(type=54 (OP), string='=', start=(27, 3), end=(27, 4), line='\\t\\tx=x/m;\\n')\n",
      "TokenInfo(type=1 (NAME), string='x', start=(27, 4), end=(27, 5), line='\\t\\tx=x/m;\\n')\n",
      "TokenInfo(type=54 (OP), string='/', start=(27, 5), end=(27, 6), line='\\t\\tx=x/m;\\n')\n",
      "TokenInfo(type=1 (NAME), string='m', start=(27, 6), end=(27, 7), line='\\t\\tx=x/m;\\n')\n",
      "TokenInfo(type=54 (OP), string=';', start=(27, 7), end=(27, 8), line='\\t\\tx=x/m;\\n')\n",
      "TokenInfo(type=62 (NL), string='\\n', start=(27, 8), end=(27, 9), line='\\t\\tx=x/m;\\n')\n",
      "TokenInfo(type=1 (NAME), string='for', start=(28, 2), end=(28, 5), line='\\t\\tfor(i=m;i<=x;i++)\\n')\n",
      "TokenInfo(type=54 (OP), string='(', start=(28, 5), end=(28, 6), line='\\t\\tfor(i=m;i<=x;i++)\\n')\n",
      "TokenInfo(type=1 (NAME), string='i', start=(28, 6), end=(28, 7), line='\\t\\tfor(i=m;i<=x;i++)\\n')\n",
      "TokenInfo(type=54 (OP), string='=', start=(28, 7), end=(28, 8), line='\\t\\tfor(i=m;i<=x;i++)\\n')\n",
      "TokenInfo(type=1 (NAME), string='m', start=(28, 8), end=(28, 9), line='\\t\\tfor(i=m;i<=x;i++)\\n')\n",
      "TokenInfo(type=54 (OP), string=';', start=(28, 9), end=(28, 10), line='\\t\\tfor(i=m;i<=x;i++)\\n')\n",
      "TokenInfo(type=1 (NAME), string='i', start=(28, 10), end=(28, 11), line='\\t\\tfor(i=m;i<=x;i++)\\n')\n",
      "TokenInfo(type=54 (OP), string='<=', start=(28, 11), end=(28, 13), line='\\t\\tfor(i=m;i<=x;i++)\\n')\n",
      "TokenInfo(type=1 (NAME), string='x', start=(28, 13), end=(28, 14), line='\\t\\tfor(i=m;i<=x;i++)\\n')\n",
      "TokenInfo(type=54 (OP), string=';', start=(28, 14), end=(28, 15), line='\\t\\tfor(i=m;i<=x;i++)\\n')\n",
      "TokenInfo(type=1 (NAME), string='i', start=(28, 15), end=(28, 16), line='\\t\\tfor(i=m;i<=x;i++)\\n')\n",
      "TokenInfo(type=54 (OP), string='+', start=(28, 16), end=(28, 17), line='\\t\\tfor(i=m;i<=x;i++)\\n')\n",
      "TokenInfo(type=54 (OP), string='+', start=(28, 17), end=(28, 18), line='\\t\\tfor(i=m;i<=x;i++)\\n')\n",
      "TokenInfo(type=54 (OP), string=')', start=(28, 18), end=(28, 19), line='\\t\\tfor(i=m;i<=x;i++)\\n')\n",
      "TokenInfo(type=62 (NL), string='\\n', start=(28, 19), end=(28, 20), line='\\t\\tfor(i=m;i<=x;i++)\\n')\n",
      "TokenInfo(type=54 (OP), string='{', start=(29, 2), end=(29, 3), line='\\t\\t{\\n')\n",
      "TokenInfo(type=62 (NL), string='\\n', start=(29, 3), end=(29, 4), line='\\t\\t{\\n')\n",
      "TokenInfo(type=1 (NAME), string='if', start=(30, 3), end=(30, 5), line='\\t\\t\\tif(x%i==0)\\n')\n",
      "TokenInfo(type=54 (OP), string='(', start=(30, 5), end=(30, 6), line='\\t\\t\\tif(x%i==0)\\n')\n",
      "TokenInfo(type=1 (NAME), string='x', start=(30, 6), end=(30, 7), line='\\t\\t\\tif(x%i==0)\\n')\n",
      "TokenInfo(type=54 (OP), string='%', start=(30, 7), end=(30, 8), line='\\t\\t\\tif(x%i==0)\\n')\n",
      "TokenInfo(type=1 (NAME), string='i', start=(30, 8), end=(30, 9), line='\\t\\t\\tif(x%i==0)\\n')\n",
      "TokenInfo(type=54 (OP), string='==', start=(30, 9), end=(30, 11), line='\\t\\t\\tif(x%i==0)\\n')\n",
      "TokenInfo(type=2 (NUMBER), string='0', start=(30, 11), end=(30, 12), line='\\t\\t\\tif(x%i==0)\\n')\n",
      "TokenInfo(type=54 (OP), string=')', start=(30, 12), end=(30, 13), line='\\t\\t\\tif(x%i==0)\\n')\n",
      "TokenInfo(type=62 (NL), string='\\n', start=(30, 13), end=(30, 14), line='\\t\\t\\tif(x%i==0)\\n')\n",
      "TokenInfo(type=54 (OP), string='{', start=(31, 3), end=(31, 4), line='\\t\\t\\t{\\n')\n",
      "TokenInfo(type=62 (NL), string='\\n', start=(31, 4), end=(31, 5), line='\\t\\t\\t{\\n')\n",
      "TokenInfo(type=1 (NAME), string='sum', start=(32, 4), end=(32, 7), line='\\t\\t\\t\\tsum+=f(x,i);\\n')\n",
      "TokenInfo(type=54 (OP), string='+=', start=(32, 7), end=(32, 9), line='\\t\\t\\t\\tsum+=f(x,i);\\n')\n",
      "TokenInfo(type=1 (NAME), string='f', start=(32, 9), end=(32, 10), line='\\t\\t\\t\\tsum+=f(x,i);\\n')\n",
      "TokenInfo(type=54 (OP), string='(', start=(32, 10), end=(32, 11), line='\\t\\t\\t\\tsum+=f(x,i);\\n')\n",
      "TokenInfo(type=1 (NAME), string='x', start=(32, 11), end=(32, 12), line='\\t\\t\\t\\tsum+=f(x,i);\\n')\n",
      "TokenInfo(type=54 (OP), string=',', start=(32, 12), end=(32, 13), line='\\t\\t\\t\\tsum+=f(x,i);\\n')\n",
      "TokenInfo(type=1 (NAME), string='i', start=(32, 13), end=(32, 14), line='\\t\\t\\t\\tsum+=f(x,i);\\n')\n",
      "TokenInfo(type=54 (OP), string=')', start=(32, 14), end=(32, 15), line='\\t\\t\\t\\tsum+=f(x,i);\\n')\n",
      "TokenInfo(type=54 (OP), string=';', start=(32, 15), end=(32, 16), line='\\t\\t\\t\\tsum+=f(x,i);\\n')\n",
      "TokenInfo(type=62 (NL), string='\\n', start=(32, 16), end=(32, 17), line='\\t\\t\\t\\tsum+=f(x,i);\\n')\n",
      "TokenInfo(type=54 (OP), string='}', start=(33, 3), end=(33, 4), line='\\t\\t\\t}\\n')\n",
      "TokenInfo(type=62 (NL), string='\\n', start=(33, 4), end=(33, 5), line='\\t\\t\\t}\\n')\n",
      "TokenInfo(type=54 (OP), string='}', start=(34, 2), end=(34, 3), line='\\t\\t}\\n')\n",
      "TokenInfo(type=62 (NL), string='\\n', start=(34, 3), end=(34, 4), line='\\t\\t}\\n')\n",
      "TokenInfo(type=54 (OP), string='}', start=(35, 1), end=(35, 2), line='\\t}\\n')\n",
      "TokenInfo(type=62 (NL), string='\\n', start=(35, 2), end=(35, 3), line='\\t}\\n')\n",
      "TokenInfo(type=1 (NAME), string='return', start=(36, 1), end=(36, 7), line='\\treturn sum;\\n')\n",
      "TokenInfo(type=1 (NAME), string='sum', start=(36, 8), end=(36, 11), line='\\treturn sum;\\n')\n",
      "TokenInfo(type=54 (OP), string=';', start=(36, 11), end=(36, 12), line='\\treturn sum;\\n')\n",
      "TokenInfo(type=62 (NL), string='\\n', start=(36, 12), end=(36, 13), line='\\treturn sum;\\n')\n",
      "TokenInfo(type=54 (OP), string='}', start=(37, 0), end=(37, 1), line='}')\n",
      "TokenInfo(type=4 (NEWLINE), string='', start=(37, 1), end=(37, 2), line='')\n",
      "TokenInfo(type=0 (ENDMARKER), string='', start=(38, 0), end=(38, 0), line='')\n"
     ]
    }
   ],
   "execution_count": 8
  },
  {
   "metadata": {},
   "cell_type": "code",
   "outputs": [],
   "execution_count": null,
   "source": "",
   "id": "11e1a7b91694ba29"
  }
 ],
 "metadata": {
  "kernelspec": {
   "display_name": "Python 3",
   "language": "python",
   "name": "python3"
  },
  "language_info": {
   "codemirror_mode": {
    "name": "ipython",
    "version": 2
   },
   "file_extension": ".py",
   "mimetype": "text/x-python",
   "name": "python",
   "nbconvert_exporter": "python",
   "pygments_lexer": "ipython2",
   "version": "2.7.6"
  }
 },
 "nbformat": 4,
 "nbformat_minor": 5
}
